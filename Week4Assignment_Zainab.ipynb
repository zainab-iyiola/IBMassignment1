{
 "cells": [
  {
   "cell_type": "markdown",
   "metadata": {},
   "source": [
    "<center>\n",
    "    <img src=\"https://s3-api.us-geo.objectstorage.softlayer.net/cf-courses-data/CognitiveClass/Logos/organization_logo/organization_logo.png\" width=\"300\" alt=\"cognitiveclass.ai logo\"  />\n",
    "</center>\n"
   ]
  },
  {
   "cell_type": "markdown",
   "metadata": {},
   "source": [
    "#### Add your code below following the instructions given in the course\n"
   ]
  },
  {
   "cell_type": "markdown",
   "metadata": {
    "tags": []
   },
   "source": [
    "# My Jupyter Notebook on IBM Watson Studio"
   ]
  },
  {
   "cell_type": "markdown",
   "metadata": {},
   "source": [
    "**Zainab Iyiola**\n",
    "\n",
    "Data Scientist specializing in oil & gas"
   ]
  },
  {
   "cell_type": "markdown",
   "metadata": {},
   "source": [
    "*I am interested in data science because i want to be abreast of the threats of industry 4.0 to my industry and also make myself relevant in the future of digital transformation.*"
   ]
  },
  {
   "cell_type": "markdown",
   "metadata": {},
   "source": [
    "### The code below adds two numbers "
   ]
  },
  {
   "cell_type": "code",
   "execution_count": 2,
   "metadata": {},
   "outputs": [
    {
     "name": "stdout",
     "output_type": "stream",
     "text": [
      "691\n"
     ]
    }
   ],
   "source": [
    "x = 123\n",
    "y = 568\n",
    "print(x+y)"
   ]
  },
  {
   "cell_type": "markdown",
   "metadata": {},
   "source": [
    "Petroleum Engineering is divided into 3 main branches:\n",
    "- Drilling Engineering\n",
    "- Reservoir Engineering\n",
    "- Production Engineering\n",
    "\n",
    "Data science is a strategic tool for the oil and gas industry. This [article](https://www.sbconsulting.com/blog-category/data-science-as-a-strategic-tool-in-the-oil-and-gas-industry) explains it!\n",
    "\n",
    "In the course for equipping myself with data science skills, I have picked up a lot and they're listed below;\n",
    "1. Excel\n",
    "2. Microsoft PowerBI and Tableau \n",
    "3. SQL\n",
    "Now, I hope to learn python. Thank you IBM and Coursera for this wonderful opportunity. "
   ]
  }
 ],
 "metadata": {
  "kernelspec": {
   "display_name": "Python",
   "language": "python",
   "name": "conda-env-python-py"
  },
  "language_info": {
   "codemirror_mode": {
    "name": "ipython",
    "version": 3
   },
   "file_extension": ".py",
   "mimetype": "text/x-python",
   "name": "python",
   "nbconvert_exporter": "python",
   "pygments_lexer": "ipython3",
   "version": "3.7.12"
  }
 },
 "nbformat": 4,
 "nbformat_minor": 4
}
